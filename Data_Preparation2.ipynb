{
 "cells": [
  {
   "cell_type": "markdown",
   "metadata": {},
   "source": [
    "# Import Libraries and Files"
   ]
  },
  {
   "cell_type": "code",
   "execution_count": 1,
   "metadata": {},
   "outputs": [],
   "source": [
    "import pandas as pd"
   ]
  },
  {
   "attachments": {},
   "cell_type": "markdown",
   "metadata": {},
   "source": [
    "# Loading and Combining all Data Parts"
   ]
  },
  {
   "cell_type": "code",
   "execution_count": 2,
   "metadata": {},
   "outputs": [],
   "source": [
    "# read first file and only keep desired columns\n",
    "df2 = pd.read_csv(\"data_part_1.csv\")\n",
    "df2 = df2[[\"INCIDENT_DATETIME\", \"ZIPCODE\", \"BOROUGH\"]]\n",
    "df2 = df2[df2[\"BOROUGH\"].str.contains(\"MANHATTAN\")]"
   ]
  },
  {
   "cell_type": "code",
   "execution_count": 3,
   "metadata": {},
   "outputs": [],
   "source": [
    "# create list of all other files\n",
    "part_files = [\"data_part_2.csv\",\n",
    "            \"data_part_3.csv\", \n",
    "            \"data_part_4.csv\", \n",
    "            \"data_part_5.csv\",\n",
    "            \"data_part_6.csv\",\n",
    "            \"data_part_7.csv\",\n",
    "            \"data_part_8.csv\",\n",
    "            \"data_part_9.csv\",\n",
    "            \"data_part_10.csv\"]"
   ]
  },
  {
   "cell_type": "code",
   "execution_count": 4,
   "metadata": {},
   "outputs": [
    {
     "name": "stderr",
     "output_type": "stream",
     "text": [
      "/var/folders/n2/v_12tfqd6tg02y2ztvhw3wwc0000gn/T/ipykernel_35521/673464733.py:3: DtypeWarning: Columns (21) have mixed types. Specify dtype option on import or set low_memory=False.\n",
      "  df_part = pd.read_csv(filename)\n"
     ]
    },
    {
     "name": "stdout",
     "output_type": "stream",
     "text": [
      "added data_part_2.csv\n",
      "added data_part_3.csv\n",
      "added data_part_4.csv\n",
      "added data_part_5.csv\n"
     ]
    },
    {
     "name": "stderr",
     "output_type": "stream",
     "text": [
      "/var/folders/n2/v_12tfqd6tg02y2ztvhw3wwc0000gn/T/ipykernel_35521/673464733.py:3: DtypeWarning: Columns (7,11,17,27,28,29,30) have mixed types. Specify dtype option on import or set low_memory=False.\n",
      "  df_part = pd.read_csv(filename)\n"
     ]
    },
    {
     "name": "stdout",
     "output_type": "stream",
     "text": [
      "added data_part_6.csv\n"
     ]
    },
    {
     "name": "stderr",
     "output_type": "stream",
     "text": [
      "/var/folders/n2/v_12tfqd6tg02y2ztvhw3wwc0000gn/T/ipykernel_35521/673464733.py:3: DtypeWarning: Columns (7,11,17,27,28,29,30) have mixed types. Specify dtype option on import or set low_memory=False.\n",
      "  df_part = pd.read_csv(filename)\n"
     ]
    },
    {
     "name": "stdout",
     "output_type": "stream",
     "text": [
      "added data_part_7.csv\n",
      "added data_part_8.csv\n",
      "added data_part_9.csv\n",
      "added data_part_10.csv\n"
     ]
    }
   ],
   "source": [
    "# import all other files and stick them together\n",
    "for filename in part_files:\n",
    "    df_part = pd.read_csv(filename)\n",
    "    df_part = df_part[[\"INCIDENT_DATETIME\", \"ZIPCODE\", \"BOROUGH\"]]\n",
    "    df_part = df_part[df_part[\"BOROUGH\"].str.contains(\"MANHATTAN\")]\n",
    "    df2 = pd.concat([df2, df_part])\n",
    "    print(\"added\", filename)\n"
   ]
  },
  {
   "attachments": {},
   "cell_type": "markdown",
   "metadata": {},
   "source": [
    "# Selecting Desired Time Frame"
   ]
  },
  {
   "cell_type": "code",
   "execution_count": 5,
   "metadata": {},
   "outputs": [],
   "source": [
    "# select the desired time frame in years\n",
    "# remove the column BOROUGH because it is only MANHATTAN\n",
    "df = df2[df2.INCIDENT_DATETIME.str.contains(\"2015|2016|2017|2018\")]\n",
    "df = df[[\"INCIDENT_DATETIME\", \"ZIPCODE\"]]"
   ]
  },
  {
   "attachments": {},
   "cell_type": "markdown",
   "metadata": {},
   "source": [
    "# Handling NaN and Wrong Values & Formatting"
   ]
  },
  {
   "cell_type": "code",
   "execution_count": 6,
   "metadata": {},
   "outputs": [
    {
     "name": "stdout",
     "output_type": "stream",
     "text": [
      "False    1463373\n",
      "True       27131\n",
      "Name: ZIPCODE, dtype: int64\n",
      "False    1490504\n",
      "Name: INCIDENT_DATETIME, dtype: int64\n"
     ]
    }
   ],
   "source": [
    "# check how many NA there are in ZIPCODE or INCIDENT_DATETIME\n",
    "print(df.ZIPCODE.isna().value_counts())\n",
    "print(df.INCIDENT_DATETIME.isna().value_counts())"
   ]
  },
  {
   "cell_type": "code",
   "execution_count": 7,
   "metadata": {},
   "outputs": [],
   "source": [
    "# remove all indicents with NA zipcodes\n",
    "df = df.dropna()"
   ]
  },
  {
   "cell_type": "code",
   "execution_count": 8,
   "metadata": {},
   "outputs": [
    {
     "data": {
      "text/plain": [
       "array(['10002', '10016', '10024', '10014', 10034.0, 10001.0, 10016.0,\n",
       "       10035.0, 10036.0, 10029.0, 10028.0, 10002.0, 10024.0, 10030.0,\n",
       "       10027.0, 10038.0, 10021.0, 10031.0, 10003.0, 10025.0, 10019.0,\n",
       "       10017.0, 10023.0, 10032.0, 10014.0, 10013.0, 10012.0, 10040.0,\n",
       "       10022.0, 10009.0, 10011.0, 10018.0, 10007.0, 10005.0, 10010.0,\n",
       "       10033.0, 10065.0, 10128.0, 10004.0, 10069.0, 10026.0, 10075.0,\n",
       "       10039.0, 10037.0, 10044.0, 10020.0, 10006.0, 10280.0, 10112.0,\n",
       "       10111.0, 10282.0, 10153.0, 10162.0, 10107.0, 10281.0, 10000.0,\n",
       "       10103.0, 10119.0, 10041.0, 10129.0, 10154.0, 10123.0, 10302.0,\n",
       "       10463.0, 10048.0, 10301.0, 83.0, 11215.0, 10452.0, 10122.0,\n",
       "       10169.0, 10168.0, 10121.0, 10165.0, 10152.0, 10110.0, 10118.0,\n",
       "       10278.0, 10172.0, 10106.0, 10105.0, 10271.0, 10055.0, 10173.0,\n",
       "       10167.0, 10158.0, 10171.0, 10155.0, 10170.0, 10178.0, 10176.0,\n",
       "       10179.0, 10174.0, 10120.0, 10151.0, 10279.0, 10462.0, 11693.0,\n",
       "       11229.0, 10115.0, 10177.0, 10454.0, 10175.0, 10045.0, 11201.0,\n",
       "       12345.0, 11101.0], dtype=object)"
      ]
     },
     "execution_count": 8,
     "metadata": {},
     "output_type": "execute_result"
    }
   ],
   "source": [
    "# check unique zipcodes\n",
    "df.ZIPCODE.unique()"
   ]
  },
  {
   "cell_type": "code",
   "execution_count": 9,
   "metadata": {},
   "outputs": [],
   "source": [
    "# change INCIDENT_DATETIME to datetime format\n",
    "df.INCIDENT_DATETIME = pd.to_datetime(df.INCIDENT_DATETIME)"
   ]
  },
  {
   "cell_type": "code",
   "execution_count": 10,
   "metadata": {},
   "outputs": [
    {
     "name": "stdout",
     "output_type": "stream",
     "text": [
      "<class 'pandas.core.frame.DataFrame'>\n",
      "Int64Index: 1463373 entries, 375005 to 966961\n",
      "Data columns (total 2 columns):\n",
      " #   Column             Non-Null Count    Dtype         \n",
      "---  ------             --------------    -----         \n",
      " 0   INCIDENT_DATETIME  1463373 non-null  datetime64[ns]\n",
      " 1   ZIPCODE            1463373 non-null  object        \n",
      "dtypes: datetime64[ns](1), object(1)\n",
      "memory usage: 33.5+ MB\n"
     ]
    }
   ],
   "source": [
    "df.info()"
   ]
  },
  {
   "cell_type": "code",
   "execution_count": 11,
   "metadata": {},
   "outputs": [],
   "source": [
    "# arrange by incident datetime\n",
    "df.sort_values(by=\"INCIDENT_DATETIME\", inplace=True)\n",
    "df = df.reset_index(drop=True)"
   ]
  },
  {
   "cell_type": "code",
   "execution_count": 12,
   "metadata": {},
   "outputs": [
    {
     "name": "stdout",
     "output_type": "stream",
     "text": [
      "<class 'pandas.core.frame.DataFrame'>\n",
      "RangeIndex: 1463373 entries, 0 to 1463372\n",
      "Data columns (total 2 columns):\n",
      " #   Column             Non-Null Count    Dtype         \n",
      "---  ------             --------------    -----         \n",
      " 0   INCIDENT_DATETIME  1463373 non-null  datetime64[ns]\n",
      " 1   ZIPCODE            1463373 non-null  object        \n",
      "dtypes: datetime64[ns](1), object(1)\n",
      "memory usage: 22.3+ MB\n"
     ]
    }
   ],
   "source": [
    "df.info()"
   ]
  },
  {
   "cell_type": "code",
   "execution_count": 13,
   "metadata": {},
   "outputs": [
    {
     "data": {
      "text/html": [
       "<div>\n",
       "<style scoped>\n",
       "    .dataframe tbody tr th:only-of-type {\n",
       "        vertical-align: middle;\n",
       "    }\n",
       "\n",
       "    .dataframe tbody tr th {\n",
       "        vertical-align: top;\n",
       "    }\n",
       "\n",
       "    .dataframe thead th {\n",
       "        text-align: right;\n",
       "    }\n",
       "</style>\n",
       "<table border=\"1\" class=\"dataframe\">\n",
       "  <thead>\n",
       "    <tr style=\"text-align: right;\">\n",
       "      <th></th>\n",
       "      <th>INCIDENT_DATETIME</th>\n",
       "      <th>ZIPCODE</th>\n",
       "    </tr>\n",
       "  </thead>\n",
       "  <tbody>\n",
       "    <tr>\n",
       "      <th>0</th>\n",
       "      <td>2015-01-01 00:00:44</td>\n",
       "      <td>10001.0</td>\n",
       "    </tr>\n",
       "    <tr>\n",
       "      <th>1</th>\n",
       "      <td>2015-01-01 00:02:03</td>\n",
       "      <td>10034.0</td>\n",
       "    </tr>\n",
       "    <tr>\n",
       "      <th>2</th>\n",
       "      <td>2015-01-01 00:06:44</td>\n",
       "      <td>10016.0</td>\n",
       "    </tr>\n",
       "    <tr>\n",
       "      <th>3</th>\n",
       "      <td>2015-01-01 00:06:58</td>\n",
       "      <td>10035.0</td>\n",
       "    </tr>\n",
       "    <tr>\n",
       "      <th>4</th>\n",
       "      <td>2015-01-01 00:07:36</td>\n",
       "      <td>10036.0</td>\n",
       "    </tr>\n",
       "  </tbody>\n",
       "</table>\n",
       "</div>"
      ],
      "text/plain": [
       "    INCIDENT_DATETIME  ZIPCODE\n",
       "0 2015-01-01 00:00:44  10001.0\n",
       "1 2015-01-01 00:02:03  10034.0\n",
       "2 2015-01-01 00:06:44  10016.0\n",
       "3 2015-01-01 00:06:58  10035.0\n",
       "4 2015-01-01 00:07:36  10036.0"
      ]
     },
     "execution_count": 13,
     "metadata": {},
     "output_type": "execute_result"
    }
   ],
   "source": [
    "df.head()"
   ]
  },
  {
   "cell_type": "code",
   "execution_count": 14,
   "metadata": {},
   "outputs": [
    {
     "data": {
      "text/plain": [
       "array([10001.0, 10034.0, 10016.0, 10035.0, 10036.0, 10029.0, 10028.0,\n",
       "       10002.0, 10024.0, 10030.0, 10027.0, 10038.0, 10021.0, 10031.0,\n",
       "       10003.0, 10025.0, 10019.0, 10017.0, 10023.0, 10032.0, 10014.0,\n",
       "       10013.0, 10012.0, 10040.0, 10022.0, 10009.0, 10011.0, 10018.0,\n",
       "       10007.0, 10005.0, 10010.0, 10033.0, 10065.0, 10128.0, 10004.0,\n",
       "       10069.0, 10026.0, 10075.0, 10039.0, 10037.0, 10044.0, 10020.0,\n",
       "       10006.0, 10280.0, 10112.0, 10111.0, 10282.0, 10153.0, 10162.0,\n",
       "       10107.0, 10281.0, 10000.0, 10103.0, 10119.0, 10041.0, 10129.0,\n",
       "       10154.0, 10123.0, 10302.0, 10463.0, 10048.0, 10301.0, 83.0,\n",
       "       11215.0, 10452.0, 10122.0, 10168.0, 10121.0, 10165.0, 10152.0,\n",
       "       10110.0, 10118.0, 10278.0, 10172.0, 10169.0, 10106.0, 10105.0,\n",
       "       10271.0, 10158.0, 10055.0, 10173.0, 10167.0, 10171.0, 10155.0,\n",
       "       10170.0, 10178.0, 10176.0, 10179.0, 10174.0, 10120.0, 10151.0,\n",
       "       10279.0, 10462.0, 11693.0, 11229.0, 10115.0, 10177.0, '10002',\n",
       "       '10016', '10024', '10014', 10454.0, 10175.0, 10045.0, 11201.0,\n",
       "       12345.0, 11101.0], dtype=object)"
      ]
     },
     "execution_count": 14,
     "metadata": {},
     "output_type": "execute_result"
    }
   ],
   "source": [
    "# show unique zip codes\n",
    "df.ZIPCODE.unique()"
   ]
  },
  {
   "cell_type": "code",
   "execution_count": 15,
   "metadata": {},
   "outputs": [],
   "source": [
    "# reformat zip codes to integer\n",
    "df.ZIPCODE = df.ZIPCODE.astype(\"int32\")"
   ]
  },
  {
   "cell_type": "code",
   "execution_count": 16,
   "metadata": {},
   "outputs": [
    {
     "data": {
      "text/plain": [
       "array([10001, 10034, 10016, 10035, 10036, 10029, 10028, 10002, 10024,\n",
       "       10030, 10027, 10038, 10021, 10031, 10003, 10025, 10019, 10017,\n",
       "       10023, 10032, 10014, 10013, 10012, 10040, 10022, 10009, 10011,\n",
       "       10018, 10007, 10005, 10010, 10033, 10065, 10128, 10004, 10069,\n",
       "       10026, 10075, 10039, 10037, 10044, 10020, 10006, 10280, 10112,\n",
       "       10111, 10282, 10153, 10162, 10107, 10281, 10000, 10103, 10119,\n",
       "       10041, 10129, 10154, 10123, 10302, 10463, 10048, 10301,    83,\n",
       "       11215, 10452, 10122, 10168, 10121, 10165, 10152, 10110, 10118,\n",
       "       10278, 10172, 10169, 10106, 10105, 10271, 10158, 10055, 10173,\n",
       "       10167, 10171, 10155, 10170, 10178, 10176, 10179, 10174, 10120,\n",
       "       10151, 10279, 10462, 11693, 11229, 10115, 10177, 10454, 10175,\n",
       "       10045, 11201, 12345, 11101], dtype=int32)"
      ]
     },
     "execution_count": 16,
     "metadata": {},
     "output_type": "execute_result"
    }
   ],
   "source": [
    "# check unique zip codes again\n",
    "df.ZIPCODE.unique()"
   ]
  },
  {
   "cell_type": "code",
   "execution_count": 17,
   "metadata": {},
   "outputs": [],
   "source": [
    "# remove zipcode \"83\", seems wrong\n",
    "# remove zipcode \"10000\", doesn't exist\n",
    "# remove zipcode above \"10300\", isn't MANHATTAN\n",
    "df = df[df.ZIPCODE != 83]\n",
    "df = df[df.ZIPCODE != 10000]\n",
    "df = df[df.ZIPCODE < 10300]\n"
   ]
  },
  {
   "attachments": {},
   "cell_type": "markdown",
   "metadata": {},
   "source": [
    "# Zip Code Mapping for Buildings with Individual Zip Codes"
   ]
  },
  {
   "cell_type": "code",
   "execution_count": 18,
   "metadata": {},
   "outputs": [],
   "source": [
    "# ZIPCODE mapping\n",
    "ZIP_real = [10041, 10045, 10048, 10055, 10069, 10103, 10104, 10105, 10106, 10107, 10110, 10111, 10112, 10115, 10118, 10119, 10120, 10121, 10122, 10123, 10129, 10151, 10152, 10153, 10154, 10155, 10158, 10162, 10165, 10166, 10167, 10168, 10169, 10170, 10171, 10172, 10173, 10174, 10175, 10176, 10177, 10178, 10179, 10271, 10278, 10279, 10281, 10282]\n",
    "ZIP_mapped = [10004, 10038, 10007, 10025, 10023, 10019, 10019, 10019, 10019, 10019, 10036, 10020, 10020, 10027, 10016, 10001, 10001, 10025, 10025, 10001, 10036, 10022, 10022, 10022, 10022, 10022, 10016, 10075, 10017, 10025, 10017, 10017, 10017, 10017, 10017, 10017, 10017, 10017, 10025, 10025, 10017, 10025, 10017, 10005, 10007, 10007, 10006, 10007]\n",
    "ZIP_unique = [\"55 Water St.\", \"Wall Street\", \"World Trade Center\", \"Park Avenue Plaza, 55 E 52nd St\", \"Riverside Park South\", \"666 Fifth Ave\", \"1290 Avenue of the Americas\", \"Alliance Bernstein Building, 1345 Avenue of the Americas\", \"888 Seventh Ave.\", \"Fisk Building, 250 W 57th St\", \"500 Fifth Ave\", \"45 Rockefeller Center\", \"30 Rockefeller Center\", \"The Interchurch Center, 475 Riverside Dr\", \"Empire State Building, 350 Fifth Ave\", \"1 Penn Plaza\", \"Kratter Building, 112 W 34th St\", \"2 Penn Plaza\", \"Pennsylvania Building, 225 W 34th St\", \"Nelson Tower, 450 Fashion Ave\", \"10129\", \"Squibb Building, 745 Fifth Ave\", \"Seagram Building, 375 Park Ave\", \"General Motors Building, 767 Fifth Ave\", \"345 Park Ave\", \"9Architects & Designers Building, 64 Third Ave\", \"Unysys Building, 605 Third Ave\", \"The Pavilion, 500 E 77th St\", \"One Grand Central Place, 60 E 42nd St\", \"Metlife Building, 200 Park Ave\", \"245 Park Ave\", \"Chanin Building, 122 E 42nd St\", \"Helmsley Building, 230 Park Ave\", \"Graybar Building, 420 Lexington Ave\", \"westvaco Building, 299 Park Ave\", \"277 Park Ave\", \"Canadian Pacific Building, 340 Madison Ave\", \"Chrysler Building, 405 Lexington Ave\", \"Lefcourt-National Building, 521 Fifth Ave\", \"Fred F. French Building, 551 Fifth Ave\", \"Postum Building, 250 Park Ave\", \"101 Park Ave\", \"383 Madison Ave\", \"Equitable Life Building, 120 Broadway\", \"Jacob K. Javits Federal Building, 26 Federal Plaza\", \"Woolworth Building, 233 Broadway\", \"Battery Park\", \"Battery Park\"]\n",
    "\n",
    "# https://convene.com/catalyst/office/buildings-new-york-city-own-zip-code/\n",
    "# https://www.amny.com/news/nyc-zip-codes-1-28558957/\n",
    "# https://www.unitedstateszipcodes.org/\n",
    "\n",
    "zip_map = dict(zip(ZIP_real, ZIP_mapped))"
   ]
  },
  {
   "cell_type": "code",
   "execution_count": 19,
   "metadata": {},
   "outputs": [
    {
     "data": {
      "text/html": [
       "<div>\n",
       "<style scoped>\n",
       "    .dataframe tbody tr th:only-of-type {\n",
       "        vertical-align: middle;\n",
       "    }\n",
       "\n",
       "    .dataframe tbody tr th {\n",
       "        vertical-align: top;\n",
       "    }\n",
       "\n",
       "    .dataframe thead th {\n",
       "        text-align: right;\n",
       "    }\n",
       "</style>\n",
       "<table border=\"1\" class=\"dataframe\">\n",
       "  <thead>\n",
       "    <tr style=\"text-align: right;\">\n",
       "      <th></th>\n",
       "      <th>0</th>\n",
       "      <th>1</th>\n",
       "      <th>2</th>\n",
       "    </tr>\n",
       "  </thead>\n",
       "  <tbody>\n",
       "    <tr>\n",
       "      <th>0</th>\n",
       "      <td>10041</td>\n",
       "      <td>10004</td>\n",
       "      <td>55 Water St.</td>\n",
       "    </tr>\n",
       "    <tr>\n",
       "      <th>1</th>\n",
       "      <td>10045</td>\n",
       "      <td>10038</td>\n",
       "      <td>Wall Street</td>\n",
       "    </tr>\n",
       "    <tr>\n",
       "      <th>2</th>\n",
       "      <td>10048</td>\n",
       "      <td>10007</td>\n",
       "      <td>World Trade Center</td>\n",
       "    </tr>\n",
       "    <tr>\n",
       "      <th>3</th>\n",
       "      <td>10055</td>\n",
       "      <td>10025</td>\n",
       "      <td>Park Avenue Plaza, 55 E 52nd St</td>\n",
       "    </tr>\n",
       "    <tr>\n",
       "      <th>4</th>\n",
       "      <td>10069</td>\n",
       "      <td>10023</td>\n",
       "      <td>Riverside Park South</td>\n",
       "    </tr>\n",
       "    <tr>\n",
       "      <th>5</th>\n",
       "      <td>10103</td>\n",
       "      <td>10019</td>\n",
       "      <td>666 Fifth Ave</td>\n",
       "    </tr>\n",
       "    <tr>\n",
       "      <th>6</th>\n",
       "      <td>10104</td>\n",
       "      <td>10019</td>\n",
       "      <td>1290 Avenue of the Americas</td>\n",
       "    </tr>\n",
       "    <tr>\n",
       "      <th>7</th>\n",
       "      <td>10105</td>\n",
       "      <td>10019</td>\n",
       "      <td>Alliance Bernstein Building, 1345 Avenue of th...</td>\n",
       "    </tr>\n",
       "    <tr>\n",
       "      <th>8</th>\n",
       "      <td>10106</td>\n",
       "      <td>10019</td>\n",
       "      <td>888 Seventh Ave.</td>\n",
       "    </tr>\n",
       "    <tr>\n",
       "      <th>9</th>\n",
       "      <td>10107</td>\n",
       "      <td>10019</td>\n",
       "      <td>Fisk Building, 250 W 57th St</td>\n",
       "    </tr>\n",
       "    <tr>\n",
       "      <th>10</th>\n",
       "      <td>10110</td>\n",
       "      <td>10036</td>\n",
       "      <td>500 Fifth Ave</td>\n",
       "    </tr>\n",
       "    <tr>\n",
       "      <th>11</th>\n",
       "      <td>10111</td>\n",
       "      <td>10020</td>\n",
       "      <td>45 Rockefeller Center</td>\n",
       "    </tr>\n",
       "    <tr>\n",
       "      <th>12</th>\n",
       "      <td>10112</td>\n",
       "      <td>10020</td>\n",
       "      <td>30 Rockefeller Center</td>\n",
       "    </tr>\n",
       "    <tr>\n",
       "      <th>13</th>\n",
       "      <td>10115</td>\n",
       "      <td>10027</td>\n",
       "      <td>The Interchurch Center, 475 Riverside Dr</td>\n",
       "    </tr>\n",
       "    <tr>\n",
       "      <th>14</th>\n",
       "      <td>10118</td>\n",
       "      <td>10016</td>\n",
       "      <td>Empire State Building, 350 Fifth Ave</td>\n",
       "    </tr>\n",
       "    <tr>\n",
       "      <th>15</th>\n",
       "      <td>10119</td>\n",
       "      <td>10001</td>\n",
       "      <td>1 Penn Plaza</td>\n",
       "    </tr>\n",
       "    <tr>\n",
       "      <th>16</th>\n",
       "      <td>10120</td>\n",
       "      <td>10001</td>\n",
       "      <td>Kratter Building, 112 W 34th St</td>\n",
       "    </tr>\n",
       "    <tr>\n",
       "      <th>17</th>\n",
       "      <td>10121</td>\n",
       "      <td>10025</td>\n",
       "      <td>2 Penn Plaza</td>\n",
       "    </tr>\n",
       "    <tr>\n",
       "      <th>18</th>\n",
       "      <td>10122</td>\n",
       "      <td>10025</td>\n",
       "      <td>Pennsylvania Building, 225 W 34th St</td>\n",
       "    </tr>\n",
       "    <tr>\n",
       "      <th>19</th>\n",
       "      <td>10123</td>\n",
       "      <td>10001</td>\n",
       "      <td>Nelson Tower, 450 Fashion Ave</td>\n",
       "    </tr>\n",
       "    <tr>\n",
       "      <th>20</th>\n",
       "      <td>10129</td>\n",
       "      <td>10036</td>\n",
       "      <td>10129</td>\n",
       "    </tr>\n",
       "    <tr>\n",
       "      <th>21</th>\n",
       "      <td>10151</td>\n",
       "      <td>10022</td>\n",
       "      <td>Squibb Building, 745 Fifth Ave</td>\n",
       "    </tr>\n",
       "    <tr>\n",
       "      <th>22</th>\n",
       "      <td>10152</td>\n",
       "      <td>10022</td>\n",
       "      <td>Seagram Building, 375 Park Ave</td>\n",
       "    </tr>\n",
       "    <tr>\n",
       "      <th>23</th>\n",
       "      <td>10153</td>\n",
       "      <td>10022</td>\n",
       "      <td>General Motors Building, 767 Fifth Ave</td>\n",
       "    </tr>\n",
       "    <tr>\n",
       "      <th>24</th>\n",
       "      <td>10154</td>\n",
       "      <td>10022</td>\n",
       "      <td>345 Park Ave</td>\n",
       "    </tr>\n",
       "    <tr>\n",
       "      <th>25</th>\n",
       "      <td>10155</td>\n",
       "      <td>10022</td>\n",
       "      <td>9Architects &amp; Designers Building, 64 Third Ave</td>\n",
       "    </tr>\n",
       "    <tr>\n",
       "      <th>26</th>\n",
       "      <td>10158</td>\n",
       "      <td>10016</td>\n",
       "      <td>Unysys Building, 605 Third Ave</td>\n",
       "    </tr>\n",
       "    <tr>\n",
       "      <th>27</th>\n",
       "      <td>10162</td>\n",
       "      <td>10075</td>\n",
       "      <td>The Pavilion, 500 E 77th St</td>\n",
       "    </tr>\n",
       "    <tr>\n",
       "      <th>28</th>\n",
       "      <td>10165</td>\n",
       "      <td>10017</td>\n",
       "      <td>One Grand Central Place, 60 E 42nd St</td>\n",
       "    </tr>\n",
       "    <tr>\n",
       "      <th>29</th>\n",
       "      <td>10166</td>\n",
       "      <td>10025</td>\n",
       "      <td>Metlife Building, 200 Park Ave</td>\n",
       "    </tr>\n",
       "    <tr>\n",
       "      <th>30</th>\n",
       "      <td>10167</td>\n",
       "      <td>10017</td>\n",
       "      <td>245 Park Ave</td>\n",
       "    </tr>\n",
       "    <tr>\n",
       "      <th>31</th>\n",
       "      <td>10168</td>\n",
       "      <td>10017</td>\n",
       "      <td>Chanin Building, 122 E 42nd St</td>\n",
       "    </tr>\n",
       "    <tr>\n",
       "      <th>32</th>\n",
       "      <td>10169</td>\n",
       "      <td>10017</td>\n",
       "      <td>Helmsley Building, 230 Park Ave</td>\n",
       "    </tr>\n",
       "    <tr>\n",
       "      <th>33</th>\n",
       "      <td>10170</td>\n",
       "      <td>10017</td>\n",
       "      <td>Graybar Building, 420 Lexington Ave</td>\n",
       "    </tr>\n",
       "    <tr>\n",
       "      <th>34</th>\n",
       "      <td>10171</td>\n",
       "      <td>10017</td>\n",
       "      <td>westvaco Building, 299 Park Ave</td>\n",
       "    </tr>\n",
       "    <tr>\n",
       "      <th>35</th>\n",
       "      <td>10172</td>\n",
       "      <td>10017</td>\n",
       "      <td>277 Park Ave</td>\n",
       "    </tr>\n",
       "    <tr>\n",
       "      <th>36</th>\n",
       "      <td>10173</td>\n",
       "      <td>10017</td>\n",
       "      <td>Canadian Pacific Building, 340 Madison Ave</td>\n",
       "    </tr>\n",
       "    <tr>\n",
       "      <th>37</th>\n",
       "      <td>10174</td>\n",
       "      <td>10017</td>\n",
       "      <td>Chrysler Building, 405 Lexington Ave</td>\n",
       "    </tr>\n",
       "    <tr>\n",
       "      <th>38</th>\n",
       "      <td>10175</td>\n",
       "      <td>10025</td>\n",
       "      <td>Lefcourt-National Building, 521 Fifth Ave</td>\n",
       "    </tr>\n",
       "    <tr>\n",
       "      <th>39</th>\n",
       "      <td>10176</td>\n",
       "      <td>10025</td>\n",
       "      <td>Fred F. French Building, 551 Fifth Ave</td>\n",
       "    </tr>\n",
       "    <tr>\n",
       "      <th>40</th>\n",
       "      <td>10177</td>\n",
       "      <td>10017</td>\n",
       "      <td>Postum Building, 250 Park Ave</td>\n",
       "    </tr>\n",
       "    <tr>\n",
       "      <th>41</th>\n",
       "      <td>10178</td>\n",
       "      <td>10025</td>\n",
       "      <td>101 Park Ave</td>\n",
       "    </tr>\n",
       "    <tr>\n",
       "      <th>42</th>\n",
       "      <td>10179</td>\n",
       "      <td>10017</td>\n",
       "      <td>383 Madison Ave</td>\n",
       "    </tr>\n",
       "    <tr>\n",
       "      <th>43</th>\n",
       "      <td>10271</td>\n",
       "      <td>10005</td>\n",
       "      <td>Equitable Life Building, 120 Broadway</td>\n",
       "    </tr>\n",
       "    <tr>\n",
       "      <th>44</th>\n",
       "      <td>10278</td>\n",
       "      <td>10007</td>\n",
       "      <td>Jacob K. Javits Federal Building, 26 Federal P...</td>\n",
       "    </tr>\n",
       "    <tr>\n",
       "      <th>45</th>\n",
       "      <td>10279</td>\n",
       "      <td>10007</td>\n",
       "      <td>Woolworth Building, 233 Broadway</td>\n",
       "    </tr>\n",
       "    <tr>\n",
       "      <th>46</th>\n",
       "      <td>10281</td>\n",
       "      <td>10006</td>\n",
       "      <td>Battery Park</td>\n",
       "    </tr>\n",
       "    <tr>\n",
       "      <th>47</th>\n",
       "      <td>10282</td>\n",
       "      <td>10007</td>\n",
       "      <td>Battery Park</td>\n",
       "    </tr>\n",
       "  </tbody>\n",
       "</table>\n",
       "</div>"
      ],
      "text/plain": [
       "        0      1                                                  2\n",
       "0   10041  10004                                       55 Water St.\n",
       "1   10045  10038                                        Wall Street\n",
       "2   10048  10007                                 World Trade Center\n",
       "3   10055  10025                    Park Avenue Plaza, 55 E 52nd St\n",
       "4   10069  10023                               Riverside Park South\n",
       "5   10103  10019                                      666 Fifth Ave\n",
       "6   10104  10019                        1290 Avenue of the Americas\n",
       "7   10105  10019  Alliance Bernstein Building, 1345 Avenue of th...\n",
       "8   10106  10019                                   888 Seventh Ave.\n",
       "9   10107  10019                       Fisk Building, 250 W 57th St\n",
       "10  10110  10036                                      500 Fifth Ave\n",
       "11  10111  10020                              45 Rockefeller Center\n",
       "12  10112  10020                              30 Rockefeller Center\n",
       "13  10115  10027           The Interchurch Center, 475 Riverside Dr\n",
       "14  10118  10016               Empire State Building, 350 Fifth Ave\n",
       "15  10119  10001                                       1 Penn Plaza\n",
       "16  10120  10001                    Kratter Building, 112 W 34th St\n",
       "17  10121  10025                                       2 Penn Plaza\n",
       "18  10122  10025               Pennsylvania Building, 225 W 34th St\n",
       "19  10123  10001                      Nelson Tower, 450 Fashion Ave\n",
       "20  10129  10036                                              10129\n",
       "21  10151  10022                     Squibb Building, 745 Fifth Ave\n",
       "22  10152  10022                     Seagram Building, 375 Park Ave\n",
       "23  10153  10022             General Motors Building, 767 Fifth Ave\n",
       "24  10154  10022                                       345 Park Ave\n",
       "25  10155  10022     9Architects & Designers Building, 64 Third Ave\n",
       "26  10158  10016                     Unysys Building, 605 Third Ave\n",
       "27  10162  10075                        The Pavilion, 500 E 77th St\n",
       "28  10165  10017              One Grand Central Place, 60 E 42nd St\n",
       "29  10166  10025                     Metlife Building, 200 Park Ave\n",
       "30  10167  10017                                       245 Park Ave\n",
       "31  10168  10017                     Chanin Building, 122 E 42nd St\n",
       "32  10169  10017                    Helmsley Building, 230 Park Ave\n",
       "33  10170  10017                Graybar Building, 420 Lexington Ave\n",
       "34  10171  10017                    westvaco Building, 299 Park Ave\n",
       "35  10172  10017                                       277 Park Ave\n",
       "36  10173  10017         Canadian Pacific Building, 340 Madison Ave\n",
       "37  10174  10017               Chrysler Building, 405 Lexington Ave\n",
       "38  10175  10025          Lefcourt-National Building, 521 Fifth Ave\n",
       "39  10176  10025             Fred F. French Building, 551 Fifth Ave\n",
       "40  10177  10017                      Postum Building, 250 Park Ave\n",
       "41  10178  10025                                       101 Park Ave\n",
       "42  10179  10017                                    383 Madison Ave\n",
       "43  10271  10005              Equitable Life Building, 120 Broadway\n",
       "44  10278  10007  Jacob K. Javits Federal Building, 26 Federal P...\n",
       "45  10279  10007                   Woolworth Building, 233 Broadway\n",
       "46  10281  10006                                       Battery Park\n",
       "47  10282  10007                                       Battery Park"
      ]
     },
     "execution_count": 19,
     "metadata": {},
     "output_type": "execute_result"
    }
   ],
   "source": [
    "# print DF of all unique zipcodes with mapped area\n",
    "pd.DataFrame(list(zip(ZIP_real, ZIP_mapped, ZIP_unique)))"
   ]
  },
  {
   "cell_type": "code",
   "execution_count": 20,
   "metadata": {},
   "outputs": [],
   "source": [
    "# replace each of the unique skyscraper zip-codes with their local area zip code\n",
    "df.ZIPCODE = df.ZIPCODE.map(zip_map).fillna(df['ZIPCODE'])\n",
    "df.ZIPCODE = df.ZIPCODE.astype(\"int32\")"
   ]
  },
  {
   "cell_type": "code",
   "execution_count": 21,
   "metadata": {},
   "outputs": [
    {
     "data": {
      "text/plain": [
       "array([10001, 10034, 10016, 10035, 10036, 10029, 10028, 10002, 10024,\n",
       "       10030, 10027, 10038, 10021, 10031, 10003, 10025, 10019, 10017,\n",
       "       10023, 10032, 10014, 10013, 10012, 10040, 10022, 10009, 10011,\n",
       "       10018, 10007, 10005, 10010, 10033, 10065, 10128, 10004, 10026,\n",
       "       10075, 10039, 10037, 10044, 10020, 10006, 10280], dtype=int32)"
      ]
     },
     "execution_count": 21,
     "metadata": {},
     "output_type": "execute_result"
    }
   ],
   "source": [
    "df.ZIPCODE.unique()"
   ]
  },
  {
   "attachments": {},
   "cell_type": "markdown",
   "metadata": {},
   "source": [
    "# Combining Zip Codes to Neighborhoods"
   ]
  },
  {
   "cell_type": "code",
   "execution_count": 22,
   "metadata": {},
   "outputs": [],
   "source": [
    "# load list to map zipcodes to neighborhood and only keep those in MANHATTAN\n",
    "# source: https://github.com/erikgregorywebb/nyc-housing\n",
    "neighborhoods = pd.read_csv(\"nyc-zip-codes.csv\")\n",
    "neighborhoods = neighborhoods[neighborhoods.Borough == \"Manhattan\"]\n",
    "neighborhoods = neighborhoods.drop(columns=\"Borough\")"
   ]
  },
  {
   "cell_type": "code",
   "execution_count": 23,
   "metadata": {},
   "outputs": [
    {
     "data": {
      "text/html": [
       "<div>\n",
       "<style scoped>\n",
       "    .dataframe tbody tr th:only-of-type {\n",
       "        vertical-align: middle;\n",
       "    }\n",
       "\n",
       "    .dataframe tbody tr th {\n",
       "        vertical-align: top;\n",
       "    }\n",
       "\n",
       "    .dataframe thead th {\n",
       "        text-align: right;\n",
       "    }\n",
       "</style>\n",
       "<table border=\"1\" class=\"dataframe\">\n",
       "  <thead>\n",
       "    <tr style=\"text-align: right;\">\n",
       "      <th></th>\n",
       "      <th>Neighborhood</th>\n",
       "      <th>ZipCode</th>\n",
       "    </tr>\n",
       "  </thead>\n",
       "  <tbody>\n",
       "    <tr>\n",
       "      <th>62</th>\n",
       "      <td>Central Harlem</td>\n",
       "      <td>10026</td>\n",
       "    </tr>\n",
       "    <tr>\n",
       "      <th>63</th>\n",
       "      <td>Central Harlem</td>\n",
       "      <td>10027</td>\n",
       "    </tr>\n",
       "    <tr>\n",
       "      <th>64</th>\n",
       "      <td>Central Harlem</td>\n",
       "      <td>10030</td>\n",
       "    </tr>\n",
       "    <tr>\n",
       "      <th>65</th>\n",
       "      <td>Central Harlem</td>\n",
       "      <td>10037</td>\n",
       "    </tr>\n",
       "    <tr>\n",
       "      <th>66</th>\n",
       "      <td>Central Harlem</td>\n",
       "      <td>10039</td>\n",
       "    </tr>\n",
       "  </tbody>\n",
       "</table>\n",
       "</div>"
      ],
      "text/plain": [
       "      Neighborhood  ZipCode\n",
       "62  Central Harlem    10026\n",
       "63  Central Harlem    10027\n",
       "64  Central Harlem    10030\n",
       "65  Central Harlem    10037\n",
       "66  Central Harlem    10039"
      ]
     },
     "execution_count": 23,
     "metadata": {},
     "output_type": "execute_result"
    }
   ],
   "source": [
    "neighborhoods.head()"
   ]
  },
  {
   "cell_type": "code",
   "execution_count": 24,
   "metadata": {},
   "outputs": [
    {
     "name": "stdout",
     "output_type": "stream",
     "text": [
      "{10026: 'Central Harlem', 10027: 'Central Harlem', 10030: 'Central Harlem', 10037: 'Central Harlem', 10039: 'Central Harlem', 10001: 'Chelsea and Clinton', 10011: 'Chelsea and Clinton', 10018: 'Chelsea and Clinton', 10019: 'Chelsea and Clinton', 10020: 'Chelsea and Clinton', 10036: 'Chelsea and Clinton', 10029: 'East Harlem', 10035: 'East Harlem', 10010: 'Gramercy Park and Murray Hill', 10016: 'Gramercy Park and Murray Hill', 10017: 'Gramercy Park and Murray Hill', 10022: 'Gramercy Park and Murray Hill', 10012: 'Greenwich Village and Soho', 10013: 'Greenwich Village and Soho', 10014: 'Greenwich Village and Soho', 10004: 'Lower Manhattan', 10005: 'Lower Manhattan', 10006: 'Lower Manhattan', 10007: 'Lower Manhattan', 10038: 'Lower Manhattan', 10280: 'Lower Manhattan', 10002: 'Lower East Side', 10003: 'Lower East Side', 10009: 'Lower East Side', 10021: 'Upper East Side', 10028: 'Upper East Side', 10044: 'Upper East Side', 10065: 'Upper East Side', 10075: 'Upper East Side', 10128: 'Upper East Side', 10023: 'Upper West Side', 10024: 'Upper West Side', 10025: 'Upper West Side', 10031: 'Inwood and Washington Heights', 10032: 'Inwood and Washington Heights', 10033: 'Inwood and Washington Heights', 10034: 'Inwood and Washington Heights', 10040: 'Inwood and Washington Heights'}\n"
     ]
    }
   ],
   "source": [
    "# create dictionar for neighborhoods\n",
    "dict_ne = dict(zip(neighborhoods.ZipCode, neighborhoods.Neighborhood))\n",
    "print(dict_ne)"
   ]
  },
  {
   "cell_type": "code",
   "execution_count": 103,
   "metadata": {},
   "outputs": [
    {
     "data": {
      "text/html": [
       "<div>\n",
       "<style scoped>\n",
       "    .dataframe tbody tr th:only-of-type {\n",
       "        vertical-align: middle;\n",
       "    }\n",
       "\n",
       "    .dataframe tbody tr th {\n",
       "        vertical-align: top;\n",
       "    }\n",
       "\n",
       "    .dataframe thead th {\n",
       "        text-align: right;\n",
       "    }\n",
       "</style>\n",
       "<table border=\"1\" class=\"dataframe\">\n",
       "  <thead>\n",
       "    <tr style=\"text-align: right;\">\n",
       "      <th></th>\n",
       "      <th>INCIDENT_DATETIME</th>\n",
       "      <th>ZIPCODE</th>\n",
       "      <th>NEIGHBORHOOD</th>\n",
       "    </tr>\n",
       "  </thead>\n",
       "  <tbody>\n",
       "    <tr>\n",
       "      <th>0</th>\n",
       "      <td>2015-01-01 00:00:44</td>\n",
       "      <td>10001</td>\n",
       "      <td>Chelsea and Clinton</td>\n",
       "    </tr>\n",
       "    <tr>\n",
       "      <th>1</th>\n",
       "      <td>2015-01-01 00:02:03</td>\n",
       "      <td>10034</td>\n",
       "      <td>Inwood and Washington Heights</td>\n",
       "    </tr>\n",
       "    <tr>\n",
       "      <th>2</th>\n",
       "      <td>2015-01-01 00:06:44</td>\n",
       "      <td>10016</td>\n",
       "      <td>Gramercy Park and Murray Hill</td>\n",
       "    </tr>\n",
       "    <tr>\n",
       "      <th>3</th>\n",
       "      <td>2015-01-01 00:06:58</td>\n",
       "      <td>10035</td>\n",
       "      <td>East Harlem</td>\n",
       "    </tr>\n",
       "    <tr>\n",
       "      <th>4</th>\n",
       "      <td>2015-01-01 00:07:36</td>\n",
       "      <td>10036</td>\n",
       "      <td>Chelsea and Clinton</td>\n",
       "    </tr>\n",
       "  </tbody>\n",
       "</table>\n",
       "</div>"
      ],
      "text/plain": [
       "    INCIDENT_DATETIME  ZIPCODE                   NEIGHBORHOOD\n",
       "0 2015-01-01 00:00:44    10001            Chelsea and Clinton\n",
       "1 2015-01-01 00:02:03    10034  Inwood and Washington Heights\n",
       "2 2015-01-01 00:06:44    10016  Gramercy Park and Murray Hill\n",
       "3 2015-01-01 00:06:58    10035                    East Harlem\n",
       "4 2015-01-01 00:07:36    10036            Chelsea and Clinton"
      ]
     },
     "execution_count": 103,
     "metadata": {},
     "output_type": "execute_result"
    }
   ],
   "source": [
    "# create new column with neighborhood\n",
    "df[\"NEIGHBORHOOD\"] = df.ZIPCODE.map(dict_ne)\n",
    "df.head()"
   ]
  },
  {
   "cell_type": "code",
   "execution_count": 104,
   "metadata": {},
   "outputs": [
    {
     "name": "stdout",
     "output_type": "stream",
     "text": [
      "<class 'pandas.core.frame.DataFrame'>\n",
      "Int64Index: 1462654 entries, 0 to 1463372\n",
      "Data columns (total 3 columns):\n",
      " #   Column             Non-Null Count    Dtype         \n",
      "---  ------             --------------    -----         \n",
      " 0   INCIDENT_DATETIME  1462654 non-null  datetime64[ns]\n",
      " 1   ZIPCODE            1462654 non-null  int32         \n",
      " 2   NEIGHBORHOOD       1462654 non-null  object        \n",
      "dtypes: datetime64[ns](1), int32(1), object(1)\n",
      "memory usage: 39.1+ MB\n"
     ]
    }
   ],
   "source": [
    "df.info()"
   ]
  },
  {
   "cell_type": "code",
   "execution_count": 105,
   "metadata": {},
   "outputs": [],
   "source": [
    "# FORMATTING\n",
    "df.INCIDENT_DATETIME = pd.to_datetime(df.INCIDENT_DATETIME)\n",
    "df.ZIPCODE = df.ZIPCODE.astype(\"category\")\n",
    "df.NEIGHBORHOOD = df.NEIGHBORHOOD.astype(\"category\")"
   ]
  },
  {
   "cell_type": "code",
   "execution_count": 106,
   "metadata": {},
   "outputs": [
    {
     "name": "stdout",
     "output_type": "stream",
     "text": [
      "<class 'pandas.core.frame.DataFrame'>\n",
      "Int64Index: 1462654 entries, 0 to 1463372\n",
      "Data columns (total 3 columns):\n",
      " #   Column             Non-Null Count    Dtype         \n",
      "---  ------             --------------    -----         \n",
      " 0   INCIDENT_DATETIME  1462654 non-null  datetime64[ns]\n",
      " 1   ZIPCODE            1462654 non-null  category      \n",
      " 2   NEIGHBORHOOD       1462654 non-null  category      \n",
      "dtypes: category(2), datetime64[ns](1)\n",
      "memory usage: 25.1 MB\n"
     ]
    }
   ],
   "source": [
    "df.info()"
   ]
  },
  {
   "attachments": {},
   "cell_type": "markdown",
   "metadata": {},
   "source": [
    "# Exporting Dataframe"
   ]
  },
  {
   "cell_type": "code",
   "execution_count": 108,
   "metadata": {},
   "outputs": [],
   "source": [
    "# export prepared dataframe\n",
    "df.to_csv(\"data_part_clean4.csv\")"
   ]
  }
 ],
 "metadata": {
  "kernelspec": {
   "display_name": "Python 3.10.8 ('ThesisEnv')",
   "language": "python",
   "name": "python3"
  },
  "language_info": {
   "codemirror_mode": {
    "name": "ipython",
    "version": 3
   },
   "file_extension": ".py",
   "mimetype": "text/x-python",
   "name": "python",
   "nbconvert_exporter": "python",
   "pygments_lexer": "ipython3",
   "version": "3.10.8 (main, Nov 24 2022, 08:09:04) [Clang 14.0.6 ]"
  },
  "orig_nbformat": 4,
  "vscode": {
   "interpreter": {
    "hash": "17cb0bf00da1dff542d65dbc425237559f72235220e9cc39cc1db273622f357b"
   }
  }
 },
 "nbformat": 4,
 "nbformat_minor": 2
}
